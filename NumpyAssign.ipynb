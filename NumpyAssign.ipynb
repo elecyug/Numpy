{
 "cells": [
  {
   "cell_type": "markdown",
   "id": "2d0f06cb-47ae-40a6-913a-4a6b7a910f9b",
   "metadata": {},
   "source": [
    "# Theoritical Questions"
   ]
  },
  {
   "cell_type": "code",
   "execution_count": 1,
   "id": "af087cf2-4ce7-42f7-8529-7b5d2fa9a559",
   "metadata": {},
   "outputs": [],
   "source": [
    "import numpy as np "
   ]
  },
  {
   "cell_type": "raw",
   "id": "75d6f3b1-13b6-4e7c-8d22-c55feafa3bef",
   "metadata": {},
   "source": [
    "Q1. Explain the purpose and advantages of NumPy in scientific computing and data analysis. How does it\n",
    "enhance Python's capabilities for numerical operations?\n",
    "\n",
    "\n",
    "# Answer>>\n",
    "NumPy, short for Numerical Python, is a foundational library in Python for numerical computing. It provides support for large, multi-dimensional arrays and matrices, along with a vast collection of mathematical functions to operate on these arrays. The key advantages of NumPy in scientific computing and data analysis include:\n",
    "\n",
    "Performance: NumPy arrays are more efficient than Python lists, offering faster execution for mathematical operations due to their underlying implementation in C.\n",
    "Memory Efficiency: NumPy arrays consume less memory than Python lists, especially for large datasets, because they store data in contiguous blocks of memory.\n",
    "Vectorization: NumPy allows operations on entire arrays without the need for explicit loops, enabling vectorized operations that lead to more concise and faster code.\n",
    "Integration with Other Libraries: Many scientific and data analysis libraries like SciPy, Pandas, and TensorFlow are built on top of NumPy, making it a critical component for numerical computing in Python."
   ]
  },
  {
   "cell_type": "raw",
   "id": "ea0c37d0-56fc-483e-bc5b-fbc002ba441f",
   "metadata": {},
   "source": [
    "Q2. Compare and contrast np.mean() and np.average() functions in NumPy. When would you use one over the\n",
    "other?\n",
    "\n",
    "\n",
    "# Answer>>\n",
    "np.mean(): This function calculates the arithmetic mean of array elements along a specified axis or the flattened array if no axis is specified. It does not take weights into account.\n",
    "\n",
    "Example: np.mean([1, 2, 3, 4]) returns 2.5.\n",
    "np.average(): This function also computes the mean but allows for weighting of the array elements. The weights parameter can be specified to give different weights to each element.\n",
    "\n",
    "Example: np.average([1, 2, 3, 4], weights=[1, 2, 3, 4]) returns 3.0.\n",
    "When to Use: Use np.mean() for a straightforward average of the elements. Use np.average() when you need to calculate a weighted mean, considering the relative importance of each element."
   ]
  },
  {
   "cell_type": "raw",
   "id": "47486331-622d-4607-a28a-26143c333305",
   "metadata": {},
   "source": [
    "Q3. Describe the methods for reversing a NumPy array along different axes. Provide examples for 1D and 2D\n",
    "arrays.\n",
    "\n",
    "# Answer>>\n",
    "\n",
    "1D Array: Reversing can be done using slicing.\n",
    "\n",
    "2D Array:\n",
    "Reverse rows: arr[::-1, :] reverses the order of the rows.\n",
    "Reverse columns: arr[:, ::-1] reverses the order of the columns."
   ]
  },
  {
   "cell_type": "code",
   "execution_count": 128,
   "id": "05ecf8f3-2d42-4222-b829-c5d00e8efe8a",
   "metadata": {},
   "outputs": [
    {
     "data": {
      "text/plain": [
       "array([4, 3, 2, 1])"
      ]
     },
     "execution_count": 128,
     "metadata": {},
     "output_type": "execute_result"
    }
   ],
   "source": [
    "# Example 1D array: \n",
    "arr = np.array([1, 2, 3, 4]) \n",
    "arr[::-1]"
   ]
  },
  {
   "cell_type": "code",
   "execution_count": 129,
   "id": "ee9012da-f403-4408-92b0-c1dcfd7fc28a",
   "metadata": {},
   "outputs": [
    {
     "data": {
      "text/plain": [
       "array([[3, 2, 1],\n",
       "       [6, 5, 4],\n",
       "       [9, 8, 7]])"
      ]
     },
     "execution_count": 129,
     "metadata": {},
     "output_type": "execute_result"
    }
   ],
   "source": [
    "# Example 2D array: \n",
    "arr = np.array([[1, 2, 3], [4, 5, 6], [7, 8, 9]])\n",
    "arr[::-1, :]  # Output: [[7, 8, 9], [4, 5, 6], [1, 2, 3]]\n",
    "arr[:, ::-1]  # Output: [[3, 2, 1], [6, 5, 4], [9, 8, 7]]\n"
   ]
  },
  {
   "cell_type": "raw",
   "id": "9240ecc5-5865-48b5-a6c8-1db94e755204",
   "metadata": {},
   "source": [
    "Q4. How can you determine the data type of elements in a NumPy array? Discuss the importance of data types\n",
    "in memory management and performance.\n",
    "\n",
    "\n",
    "#Answer >>\n",
    "\n",
    "Method: Use the .dtype attribute to determine the data type of array elements.\n",
    "\n",
    "Example: arr = np.array([1, 2, 3]); arr.dtype returns dtype('int64').\n",
    "Importance of Data Types: The data type affects how much memory each element occupies and how the data is processed. For example, integers take up less space than floats, and choosing the correct data type can optimize memory usage and improve performance, especially with large datasets."
   ]
  },
  {
   "cell_type": "raw",
   "id": "b81fa2f2-a124-4b81-b243-7bfd74b411f0",
   "metadata": {},
   "source": [
    "Q5. Define ndarrays in NumPy and explain their key features. How do they differ from standard Python lists?\n",
    "\n",
    "\n",
    "#Answer>>\n",
    "\n",
    "Definition: ndarray is the core data structure of NumPy, representing a multidimensional array of elements, typically of a uniform type.\n",
    "\n",
    "Key Features:\n",
    "\n",
    "Homogeneous Data: All elements have the same data type.\n",
    "Efficient Memory Layout: Elements are stored in contiguous memory blocks.\n",
    "Broadcasting: Supports operations between arrays of different shapes.\n",
    "Vectorized Operations: Allows element-wise operations without explicit loops.\n",
    "Indexing and Slicing: Supports advanced indexing and slicing for easy manipulation of array data."
   ]
  },
  {
   "cell_type": "raw",
   "id": "4f409229-6816-4997-8499-b9b35d757e35",
   "metadata": {},
   "source": [
    "Q6. Analyze the performance benefits of NumPy arrays over Python lists for large-scale numerical operations.\n",
    "\n",
    "#Answer >>\n",
    "\n",
    "\n",
    "NumPy arrays offer significant performance benefits over Python lists, particularly in large-scale numerical operations. These advantages stem from how NumPy arrays are structured and implemented.\n",
    "\n",
    "1.Memory Efficiency:\n",
    "NumPy arrays are stored in contiguous memory blocks, unlike Python lists, which are collections of references to objects. This reduces memory overhead and improves cache efficiency, leading to faster access times.\n",
    "\n",
    "2.Homogeneous Data Types:\n",
    "NumPy arrays store elements of a single data type, allowing for fixed-size memory allocation. Python lists, by contrast, store heterogeneous data, which increases memory usage and processing time.\n",
    "\n",
    "3.Vectorization:\n",
    "\n",
    "NumPy allows for vectorized operations, meaning mathematical functions and operations can be applied directly to entire arrays without explicit loops. This reduces Python’s overhead and enables efficient execution at the C level.\n",
    "\n",
    "4.Broadcasting:\n",
    "NumPy’s broadcasting feature allows operations on arrays of different shapes without replicating data, further optimizing memory and speed in mathematical operations.\n",
    "\n",
    "5.Optimized Functions:\n",
    "NumPy offers a wide range of optimized mathematical functions that operate faster than Python’s built-in alternatives."
   ]
  },
  {
   "cell_type": "raw",
   "id": "91d7c214-3832-4512-bc85-da3147050ea6",
   "metadata": {},
   "source": [
    "Q7. Compare vstack() and hstack() functions in NumPy. Provide examples demonstrating their usage and\n",
    "output.\n",
    "\n",
    "#Answer >>\n",
    "\n",
    "The vstack() and hstack() functions in NumPy are used for stacking arrays along different axes: vertical and horizontal, respectively.\n",
    "\n",
    "vstack() (Vertical Stack):\n",
    "Purpose: Stacks arrays along the vertical axis (row-wise). It requires that the arrays being stacked have the same number of columns.\n",
    "\n",
    "hstack() (Horizontal Stack):\n",
    "Purpose: Stacks arrays along the horizontal axis (column-wise). It requires that the arrays have the same number of rows.\n",
    "\n",
    "So basically, vstack() adds new rows to the array, while hstack() adds new columns."
   ]
  },
  {
   "cell_type": "raw",
   "id": "83e2364a-a4ce-4d5c-87dc-a0d10eb28aef",
   "metadata": {},
   "source": [
    "Q8. Explain the differences between fliplr() and flipud() methods in NumPy, including their effects on various\n",
    "array dimensions.\n",
    "\n",
    "#Answer >>\n",
    "\n",
    "The fliplr() and flipud() methods in NumPy are used to reverse the elements in an array, but they operate along different axes.\n",
    "\n",
    "fliplr() (Flip Left to Right):\n",
    "Purpose: Reverses the elements horizontally, i.e., left to right, in each row of a 2D array.\n",
    "Effect: The order of elements within each row is flipped, but the rows themselves remain unchanged. This function is applicable to arrays with two or more dimensions.\n",
    "\n",
    "flipud() (Flip Up to Down):\n",
    "Purpose: Reverses the elements vertically, i.e., top to bottom, in each column of a 2D array.\n",
    "Effect: The rows are reversed, but the elements within each row remain in their original order. It works with arrays of any dimension."
   ]
  },
  {
   "cell_type": "raw",
   "id": "a6b49fc3-c064-41ed-b134-74d5da1904ef",
   "metadata": {},
   "source": [
    "9. Discuss the functionality of the array_split() method in NumPy. How does it handle uneven splits?\n",
    "\n",
    "\n",
    "#Answer >>\n",
    "\n",
    "\n",
    "The array_split() method in NumPy is used to split an array into multiple sub-arrays. It allows you to divide arrays along a specified axis, and unlike the split() function, it can handle cases where the array cannot be split evenly.\n",
    "\n",
    "Functionality of array_split()\n",
    "Syntax: numpy.array_split(ary, indices_or_sections, axis=0)\n",
    "ary: The input array to be split.\n",
    "indices_or_sections: Can either be an integer (number of splits) or a list of indices where splits should occur.\n",
    "axis: The axis along which to split the array. By default, it splits along axis 0 (rows for 2D arrays).\n",
    "Handling Uneven Splits\n",
    "When the number of elements in the array isn't evenly divisible by the number of splits, array_split() distributes the extra elements across the sub-arrays."
   ]
  },
  {
   "cell_type": "raw",
   "id": "2b4348c5-2c96-4234-86da-4d9cc529e07c",
   "metadata": {},
   "source": [
    "Q10. Explain the concepts of vectorization and broadcasting in NumPy. How do they contribute to efficient array\n",
    "operations?\n",
    "\n",
    "\n",
    "#Answer >>\n",
    "\n",
    "Vectorization and broadcasting in NumPy are key techniques that optimize array operations, making them faster and more efficient.\n",
    "\n",
    "Vectorization\n",
    "Vectorization allows NumPy to perform operations on entire arrays at once, eliminating the need for explicit loops. Instead of processing elements one-by-one, vectorized operations utilize low-level implementations (written in C or Fortran), enabling significant speed improvements. This not only enhances performance but also leads to cleaner, more readable code.\n",
    "\n",
    "Broadcasting\n",
    "Broadcasting enables NumPy to perform operations on arrays of different shapes by automatically expanding smaller arrays to match the shape of larger ones without copying data. It reduces memory usage and computational overhead by avoiding explicit replication."
   ]
  },
  {
   "cell_type": "markdown",
   "id": "d0fa36d8-de44-4692-993e-c93ff6941ae9",
   "metadata": {},
   "source": [
    "# Practical Questions"
   ]
  },
  {
   "cell_type": "raw",
   "id": "d21221b3-e2b0-496c-ae7f-69e1cc67bd91",
   "metadata": {},
   "source": [
    "1. Create a 3x3 NumPy array with random integers between 1 and 100. Then, interchange its rows and columns."
   ]
  },
  {
   "cell_type": "code",
   "execution_count": 29,
   "id": "f4030bcf-a614-405f-8eec-755133598ffb",
   "metadata": {},
   "outputs": [
    {
     "name": "stdout",
     "output_type": "stream",
     "text": [
      "Original Array:\n",
      "[[38 13 73]\n",
      " [10 76  6]\n",
      " [80 65 17]]\n",
      "Transpose matrix is:\n",
      "[[38 10 80]\n",
      " [13 76 65]\n",
      " [73  6 17]]\n"
     ]
    }
   ],
   "source": [
    "np.random.seed(1)\n",
    "arr =np.random.randint(1, 101, (3,3,))\n",
    "print(\"Original Array:\")\n",
    "print(arr)\n",
    "\n",
    "transpose_arr= arr.T\n",
    "print('Transpose matrix is:')\n",
    "print(transpose_arr)\n"
   ]
  },
  {
   "cell_type": "raw",
   "id": "7075e8a2-cc30-442f-b8fa-ff16447980b3",
   "metadata": {},
   "source": [
    "2. Generate a 1D NumPy array with 10 elements. Reshape it into a 2x5 array, then into a 5x2 array."
   ]
  },
  {
   "cell_type": "code",
   "execution_count": 16,
   "id": "adc11ea5-6fc8-4525-81b4-15846d195bff",
   "metadata": {},
   "outputs": [
    {
     "name": "stdout",
     "output_type": "stream",
     "text": [
      "Original 1D Array:\n",
      "[0 1 2 3 4 5 6 7 8 9]\n",
      "Reshaped to 2x5 Array: [[0 1 2 3 4]\n",
      " [5 6 7 8 9]]\n",
      "Reshaped to 5x2 Array:\n",
      "[[0 1]\n",
      " [2 3]\n",
      " [4 5]\n",
      " [6 7]\n",
      " [8 9]]\n"
     ]
    }
   ],
   "source": [
    "\n",
    "array_1d = np.arange(10)\n",
    "\n",
    "print(\"Original 1D Array:\")\n",
    "print(array_1d)\n",
    "\n",
    "\n",
    "array_2x5 = array_1d.reshape(2, 5)\n",
    "print(\"Reshaped to 2x5 Array:\")\n",
    "print(array_2x5)\n",
    "\n",
    "\n",
    "array_5x2 = array_1d.reshape(5, 2)\n",
    "print(\"Reshaped to 5x2 Array:\")\n",
    "print(array_5x2)\n"
   ]
  },
  {
   "cell_type": "raw",
   "id": "ff01deb6-ea71-4b98-b9d8-66ab8e76b726",
   "metadata": {},
   "source": [
    "3. Create a 4x4 NumPy array with random float values. Add a border of zeros around it, resulting in a 6x6 array."
   ]
  },
  {
   "cell_type": "code",
   "execution_count": 54,
   "id": "e648ed81-e728-4ee1-9d45-10bb67911a8b",
   "metadata": {},
   "outputs": [
    {
     "name": "stdout",
     "output_type": "stream",
     "text": [
      "Original 4x4 Array:\n",
      "[[0.4658077  0.72498012 0.30287132 0.48900729]\n",
      " [0.20367433 0.08861626 0.16568964 0.50299653]\n",
      " [0.78758101 0.90360187 0.21952409 0.73813097]\n",
      " [0.25780289 0.56420874 0.13242963 0.37208768]]\n",
      "\n",
      "6x6 Array with Border of Zeros:\n",
      "[[0.         0.         0.         0.         0.         0.        ]\n",
      " [0.         0.4658077  0.72498012 0.30287132 0.48900729 0.        ]\n",
      " [0.         0.20367433 0.08861626 0.16568964 0.50299653 0.        ]\n",
      " [0.         0.78758101 0.90360187 0.21952409 0.73813097 0.        ]\n",
      " [0.         0.25780289 0.56420874 0.13242963 0.37208768 0.        ]\n",
      " [0.         0.         0.         0.         0.         0.        ]]\n"
     ]
    }
   ],
   "source": [
    "import numpy as np\n",
    "\n",
    "# Create a 4x4 array with random float values\n",
    "array_4x4 = np.random.rand(4, 4)\n",
    "\n",
    "print(\"Original 4x4 Array:\")\n",
    "print(array_4x4)\n",
    "\n",
    "# Add a border of zeros around the array\n",
    "array_6x6 = np.pad(array_4x4, pad_width=1, mode='constant', constant_values=0)\n",
    "\n",
    "print(\"\\n6x6 Array with Border of Zeros:\")\n",
    "print(array_6x6)\n"
   ]
  },
  {
   "cell_type": "raw",
   "id": "bb0b958e-5040-4a41-8d19-22277ac8d517",
   "metadata": {},
   "source": [
    "4. Using NumPy, create an array of integers from 10 to 60 with a step of 5."
   ]
  },
  {
   "cell_type": "code",
   "execution_count": 58,
   "id": "9bbcd622-bf4e-4e0e-aaa5-010d743c7762",
   "metadata": {},
   "outputs": [
    {
     "name": "stdout",
     "output_type": "stream",
     "text": [
      "Array of integers from 10 to 60 with a step of 5:\n",
      "[10 15 20 25 30 35 40 45 50 55 60]\n"
     ]
    }
   ],
   "source": [
    "array = np.arange(10, 61, 5)\n",
    "\n",
    "print(\"Array of integers from 10 to 60 with a step of 5:\")\n",
    "print(array)"
   ]
  },
  {
   "cell_type": "raw",
   "id": "7770145e-2941-4f4d-aeca-7a25e0be120e",
   "metadata": {},
   "source": [
    "5. Create a NumPy array of strings ['python', 'numpy', 'pandas']. Apply different case transformations\n",
    "(uppercase, lowercase, title case, etc.) to each element."
   ]
  },
  {
   "cell_type": "code",
   "execution_count": 73,
   "id": "77b6ce96-b7df-4ec1-8295-455d590a00d7",
   "metadata": {},
   "outputs": [
    {
     "name": "stdout",
     "output_type": "stream",
     "text": [
      "Original Array:\n",
      "['python' 'numpy' 'pandas']\n",
      "\n",
      "Uppercase:\n",
      "['PYTHON' 'NUMPY' 'PANDAS']\n",
      "\n",
      "Lowercase:\n",
      "['python' 'numpy' 'pandas']\n",
      "\n",
      "Title Case:\n",
      "['Python' 'Numpy' 'Pandas']\n",
      "\n",
      "Capitalize:\n",
      "['Python' 'Numpy' 'Pandas']\n"
     ]
    }
   ],
   "source": [
    "a= np.array(['python', 'numpy', 'pandas'])\n",
    "uppercase = np.char.upper(a)\n",
    "lowercase = np.char.lower(a)\n",
    "titlecase = np.char.title(a)\n",
    "capitalize = np.char.capitalize(a)\n",
    "\n",
    "print(\"Original Array:\")\n",
    "print(a)\n",
    "\n",
    "print(\"\\nUppercase:\")\n",
    "print(uppercase)\n",
    "\n",
    "print(\"\\nLowercase:\")\n",
    "print(lowercase)\n",
    "\n",
    "print(\"\\nTitle Case:\") # Converts the first letter of each word in the string to uppercase and the rest to lowercase.\n",
    "print(titlecase)\n",
    "\n",
    "print(\"\\nCapitalize:\") # Capitalizes only the first letter of each string and converts the rest to lowercase.\n",
    "print(capitalize)"
   ]
  },
  {
   "cell_type": "raw",
   "id": "7bf6f880-5730-4bc1-bc91-09cc1d6eebbd",
   "metadata": {},
   "source": [
    "6. Generate a NumPy array of words. Insert a space between each character of every word in the array."
   ]
  },
  {
   "cell_type": "code",
   "execution_count": 79,
   "id": "124e6d39-fd7b-497b-adad-dfde64950845",
   "metadata": {},
   "outputs": [
    {
     "name": "stdout",
     "output_type": "stream",
     "text": [
      "Original Array: ['hello' 'world' 'python']\n",
      "Words with Spaces Between Characters: ['h e l l o' 'w o r l d' 'p y t h o n']\n"
     ]
    }
   ],
   "source": [
    "words = np.array(['hello', 'world', 'python'])\n",
    "spaced_words = np.char.join(' ', words)\n",
    "print(\"Original Array:\",words)\n",
    "print(\"Words with Spaces Between Characters:\", spaced_words)"
   ]
  },
  {
   "cell_type": "raw",
   "id": "36da30db-1606-41ec-8927-b7b641205189",
   "metadata": {},
   "source": [
    "7. Create two 2D NumPy arrays and perform element-wise addition, subtraction, multiplication, and division."
   ]
  },
  {
   "cell_type": "code",
   "execution_count": 92,
   "id": "c59e9768-7b25-4f73-9a5b-7bb12e4dd090",
   "metadata": {},
   "outputs": [
    {
     "data": {
      "text/plain": [
       "2"
      ]
     },
     "execution_count": 92,
     "metadata": {},
     "output_type": "execute_result"
    }
   ],
   "source": [
    "np.random.randint(6)"
   ]
  },
  {
   "cell_type": "code",
   "execution_count": 99,
   "id": "2105baf5-b58c-42fc-97db-0bd9e9a9223f",
   "metadata": {},
   "outputs": [
    {
     "name": "stdout",
     "output_type": "stream",
     "text": [
      "Element-wise Addition:\n",
      "[[ 3 10  8]\n",
      " [ 6 14 10]]\n",
      "\n",
      "Element-wise Subtraction:\n",
      "[[-1 -6 -2]\n",
      " [ 2 -4  2]]\n",
      "\n",
      "Element-wise Multiplication:\n",
      "[[ 2 16 15]\n",
      " [ 8 45 24]]\n",
      "\n",
      "Element-wise Division:\n",
      "[[0.5        0.25       0.6       ]\n",
      " [2.         0.55555556 1.5       ]]\n"
     ]
    }
   ],
   "source": [
    "array1 = np.array([[1,2,3],[4,5,6]])\n",
    "array2 = np.array([[2,8,5],[2,9,4]])\n",
    "\n",
    "addition = array1 + array2\n",
    "subtraction = array1 - array2\n",
    "multiplication = array1 * array2\n",
    "division = array1 / array2\n",
    "\n",
    "print(\"Element-wise Addition:\")\n",
    "print(addition)\n",
    "\n",
    "print(\"\\nElement-wise Subtraction:\")\n",
    "print(subtraction)\n",
    "\n",
    "print(\"\\nElement-wise Multiplication:\")\n",
    "print(multiplication)\n",
    "\n",
    "print(\"\\nElement-wise Division:\")\n",
    "print(division)"
   ]
  },
  {
   "cell_type": "raw",
   "id": "1d0914bd-416b-4db4-a3c8-e54450be6cb2",
   "metadata": {},
   "source": [
    "8. Use NumPy to create a 5x5 identity matrix, then extract its diagonal elements."
   ]
  },
  {
   "cell_type": "code",
   "execution_count": 108,
   "id": "b080a74b-07d0-4bbd-99e5-e5f2c5ebe3fc",
   "metadata": {},
   "outputs": [
    {
     "name": "stdout",
     "output_type": "stream",
     "text": [
      "5x5 Identity Matrix:\n",
      "[[1. 0. 0. 0. 0.]\n",
      " [0. 1. 0. 0. 0.]\n",
      " [0. 0. 1. 0. 0.]\n",
      " [0. 0. 0. 1. 0.]\n",
      " [0. 0. 0. 0. 1.]]\n",
      "\n",
      "Diagonal Elements:\n",
      "[1. 1. 1. 1. 1.]\n"
     ]
    }
   ],
   "source": [
    "import numpy as np\n",
    "\n",
    "\n",
    "identity_matrix = np.eye(5)\n",
    "\n",
    "diagonal_elements = np.diag(identity_matrix)\n",
    "\n",
    "print(\"5x5 Identity Matrix:\")\n",
    "print(identity_matrix)\n",
    "\n",
    "print(\"\\nDiagonal Elements:\")\n",
    "print(diagonal_elements)\n"
   ]
  },
  {
   "cell_type": "raw",
   "id": "319173a9-3e5c-4188-82a0-e6d077b173f1",
   "metadata": {},
   "source": [
    "9. Generate a NumPy array of 100 random integers between 0 and 1000. Find and display all prime numbers in\n",
    "this array.\n"
   ]
  },
  {
   "cell_type": "code",
   "execution_count": 119,
   "id": "edf92bef-55f2-40e6-afd9-f3593e75b551",
   "metadata": {},
   "outputs": [
    {
     "name": "stdout",
     "output_type": "stream",
     "text": [
      "Random Integers:\n",
      "[874 664 249 643 952 968 256 789 659 714 875 681 650 917 119 422 480 660\n",
      " 940 605 423 398 504 538 337 474 662 834 258 959 316 641 947 858 581 872\n",
      " 622 609 413 618 152 507 830 519 171 545 379 335 176 805  20 862 561 405\n",
      " 383 718 500 540 887 566   0 704 274 372 959 677 184 952 967 165 765 686\n",
      " 545 113   1 853 117 887 970 747 892 996 611 731 912 511 848 672 912 274\n",
      " 843 183 864 223 141 421 414 560 957 289]\n",
      "\n",
      "Prime Numbers:\n",
      "[643, 659, 337, 641, 947, 379, 383, 887, 677, 967, 113, 853, 887, 223, 421]\n"
     ]
    }
   ],
   "source": [
    "np.random.seed(3)\n",
    "from sympy import isprime\n",
    "\n",
    "# Generate a NumPy array of 100 random integers between 0 and 1000\n",
    "random_integers = np.random.randint(0, 1001, size=100)\n",
    "\n",
    "# Find and display all prime numbers in the array\n",
    "prime_numbers = [num for num in random_integers if isprime(num)]\n",
    "\n",
    "print(\"Random Integers:\")\n",
    "print(random_integers)\n",
    "\n",
    "print(\"\\nPrime Numbers:\")\n",
    "print(prime_numbers)\n"
   ]
  },
  {
   "cell_type": "raw",
   "id": "ca112496-0e3b-4f7c-808e-59589231d5df",
   "metadata": {},
   "source": [
    "10. Create a NumPy array representing daily temperatures for a month. Calculate and display the weekly\n",
    "averages."
   ]
  },
  {
   "cell_type": "code",
   "execution_count": 125,
   "id": "303418b8-1bcf-4c18-a4aa-70b7710a4969",
   "metadata": {},
   "outputs": [
    {
     "name": "stdout",
     "output_type": "stream",
     "text": [
      "Daily Temperatures for the Month:\n",
      "[20.50666237 13.14552601 34.82308884 20.83835727 25.4176322  34.47693136\n",
      " 17.33386285 21.35779463 19.95342269 29.71472842 25.43635461 24.78815007\n",
      " 13.11554376 10.77322987 15.80245973 10.31888727 16.86593671 33.54785902\n",
      " 16.91919777 11.89470512 16.85880423 34.65065877 20.56561055 28.25398847\n",
      " 25.37973639 14.51850825 28.59573524 19.13704179 29.4190508  29.83306692]\n",
      "\n",
      "Weekly Averages (First 4 Weeks):\n",
      "[23.79172298 20.73417487 17.45826426 24.44303992]\n",
      "\n",
      "Last Week Average (2 days):\n",
      "29.626058858067825\n"
     ]
    }
   ],
   "source": [
    "import numpy as np\n",
    "\n",
    "# Create a NumPy array representing daily temperatures for a month (30 days)\n",
    "daily_temperatures = np.random.uniform(low=10, high=35, size=30)  # Random temperatures between -10 and 35 degrees\n",
    "\n",
    "# Reshape the array into weeks (4 full weeks of 7 days + 1 last week with 2 days)\n",
    "weeks = daily_temperatures[:28].reshape(4, 7)  # First 28 days (4 weeks)\n",
    "last_week = daily_temperatures[28:]            # Last 2 days\n",
    "\n",
    "# Calculate weekly averages\n",
    "weekly_averages = np.mean(weeks, axis=1)\n",
    "last_week_average = np.mean(last_week)\n",
    "\n",
    "print(\"Daily Temperatures for the Month:\")\n",
    "print(daily_temperatures)\n",
    "\n",
    "print(\"\\nWeekly Averages (First 4 Weeks):\")\n",
    "print(weekly_averages)\n",
    "\n",
    "print(\"\\nLast Week Average (2 days):\")\n",
    "print(last_week_average)\n"
   ]
  },
  {
   "cell_type": "code",
   "execution_count": null,
   "id": "1b477776-f204-45c2-a16a-d56e5502f57d",
   "metadata": {},
   "outputs": [],
   "source": []
  }
 ],
 "metadata": {
  "kernelspec": {
   "display_name": "Python 3 (ipykernel)",
   "language": "python",
   "name": "python3"
  },
  "language_info": {
   "codemirror_mode": {
    "name": "ipython",
    "version": 3
   },
   "file_extension": ".py",
   "mimetype": "text/x-python",
   "name": "python",
   "nbconvert_exporter": "python",
   "pygments_lexer": "ipython3",
   "version": "3.10.8"
  }
 },
 "nbformat": 4,
 "nbformat_minor": 5
}
